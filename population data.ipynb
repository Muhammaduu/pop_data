{
 "cells": [
  {
   "cell_type": "markdown",
   "id": "2c647cd3",
   "metadata": {},
   "source": [
    "# Population data analysis \n",
    "## 6/06/2024\n",
    "## M.Abdirisak.A"
   ]
  },
  {
   "cell_type": "markdown",
   "id": "388f6049",
   "metadata": {},
   "source": [
    "This project will focus on analyzing population data by considering the following steps\n",
    "1) Data Preparation; this involves ensuring that there is no missing or duplicate values \n",
    "2) Descriptive Analysis; perfoming Time Series analysis see growth different countries over time, growth rates and ranking countries according their population size \n",
    "3) Data visualization; creating histograms, heatmpas or scatterplots for easy understanding and interpretation \n",
    "\n"
   ]
  },
  {
   "cell_type": "code",
   "execution_count": 15,
   "id": "2f080761",
   "metadata": {},
   "outputs": [],
   "source": [
    "# importing neccessary libraries\n",
    "import pandas as pd \n",
    "import matplotlib.pyplot as plt \n",
    "import seaborn as sns\n",
    "from statsmodels.tsa.seasonal import seasonal_decompose"
   ]
  },
  {
   "cell_type": "code",
   "execution_count": 2,
   "id": "3466074f",
   "metadata": {},
   "outputs": [
    {
     "data": {
      "text/html": [
       "<div>\n",
       "<style scoped>\n",
       "    .dataframe tbody tr th:only-of-type {\n",
       "        vertical-align: middle;\n",
       "    }\n",
       "\n",
       "    .dataframe tbody tr th {\n",
       "        vertical-align: top;\n",
       "    }\n",
       "\n",
       "    .dataframe thead th {\n",
       "        text-align: right;\n",
       "    }\n",
       "</style>\n",
       "<table border=\"1\" class=\"dataframe\">\n",
       "  <thead>\n",
       "    <tr style=\"text-align: right;\">\n",
       "      <th></th>\n",
       "      <th>Country Name</th>\n",
       "      <th>1960</th>\n",
       "      <th>1961</th>\n",
       "      <th>1962</th>\n",
       "      <th>1963</th>\n",
       "      <th>1964</th>\n",
       "      <th>1965</th>\n",
       "      <th>1966</th>\n",
       "      <th>1967</th>\n",
       "      <th>1968</th>\n",
       "      <th>...</th>\n",
       "      <th>2013</th>\n",
       "      <th>2014</th>\n",
       "      <th>2015</th>\n",
       "      <th>2016</th>\n",
       "      <th>2017</th>\n",
       "      <th>2018</th>\n",
       "      <th>2019</th>\n",
       "      <th>2020</th>\n",
       "      <th>2021</th>\n",
       "      <th>2022</th>\n",
       "    </tr>\n",
       "  </thead>\n",
       "  <tbody>\n",
       "    <tr>\n",
       "      <th>0</th>\n",
       "      <td>Aruba</td>\n",
       "      <td>54608.0</td>\n",
       "      <td>55811.0</td>\n",
       "      <td>56682.0</td>\n",
       "      <td>57475.0</td>\n",
       "      <td>58178.0</td>\n",
       "      <td>58782.0</td>\n",
       "      <td>59291.0</td>\n",
       "      <td>59522.0</td>\n",
       "      <td>59471.0</td>\n",
       "      <td>...</td>\n",
       "      <td>102880.0</td>\n",
       "      <td>103594.0</td>\n",
       "      <td>104257.0</td>\n",
       "      <td>104874.0</td>\n",
       "      <td>105439.0</td>\n",
       "      <td>105962.0</td>\n",
       "      <td>106442.0</td>\n",
       "      <td>106585.0</td>\n",
       "      <td>106537.0</td>\n",
       "      <td>106445.0</td>\n",
       "    </tr>\n",
       "    <tr>\n",
       "      <th>1</th>\n",
       "      <td>Africa Eastern and Southern</td>\n",
       "      <td>130692579.0</td>\n",
       "      <td>134169237.0</td>\n",
       "      <td>137835590.0</td>\n",
       "      <td>141630546.0</td>\n",
       "      <td>145605995.0</td>\n",
       "      <td>149742351.0</td>\n",
       "      <td>153955516.0</td>\n",
       "      <td>158313235.0</td>\n",
       "      <td>162875171.0</td>\n",
       "      <td>...</td>\n",
       "      <td>567892149.0</td>\n",
       "      <td>583651101.0</td>\n",
       "      <td>600008424.0</td>\n",
       "      <td>616377605.0</td>\n",
       "      <td>632746570.0</td>\n",
       "      <td>649757148.0</td>\n",
       "      <td>667242986.0</td>\n",
       "      <td>685112979.0</td>\n",
       "      <td>702977106.0</td>\n",
       "      <td>720859132.0</td>\n",
       "    </tr>\n",
       "    <tr>\n",
       "      <th>2</th>\n",
       "      <td>Afghanistan</td>\n",
       "      <td>8622466.0</td>\n",
       "      <td>8790140.0</td>\n",
       "      <td>8969047.0</td>\n",
       "      <td>9157465.0</td>\n",
       "      <td>9355514.0</td>\n",
       "      <td>9565147.0</td>\n",
       "      <td>9783147.0</td>\n",
       "      <td>10010030.0</td>\n",
       "      <td>10247780.0</td>\n",
       "      <td>...</td>\n",
       "      <td>31541209.0</td>\n",
       "      <td>32716210.0</td>\n",
       "      <td>33753499.0</td>\n",
       "      <td>34636207.0</td>\n",
       "      <td>35643418.0</td>\n",
       "      <td>36686784.0</td>\n",
       "      <td>37769499.0</td>\n",
       "      <td>38972230.0</td>\n",
       "      <td>40099462.0</td>\n",
       "      <td>41128771.0</td>\n",
       "    </tr>\n",
       "    <tr>\n",
       "      <th>3</th>\n",
       "      <td>Africa Western and Central</td>\n",
       "      <td>97256290.0</td>\n",
       "      <td>99314028.0</td>\n",
       "      <td>101445032.0</td>\n",
       "      <td>103667517.0</td>\n",
       "      <td>105959979.0</td>\n",
       "      <td>108336203.0</td>\n",
       "      <td>110798486.0</td>\n",
       "      <td>113319950.0</td>\n",
       "      <td>115921723.0</td>\n",
       "      <td>...</td>\n",
       "      <td>387204553.0</td>\n",
       "      <td>397855507.0</td>\n",
       "      <td>408690375.0</td>\n",
       "      <td>419778384.0</td>\n",
       "      <td>431138704.0</td>\n",
       "      <td>442646825.0</td>\n",
       "      <td>454306063.0</td>\n",
       "      <td>466189102.0</td>\n",
       "      <td>478185907.0</td>\n",
       "      <td>490330870.0</td>\n",
       "    </tr>\n",
       "    <tr>\n",
       "      <th>4</th>\n",
       "      <td>Angola</td>\n",
       "      <td>5357195.0</td>\n",
       "      <td>5441333.0</td>\n",
       "      <td>5521400.0</td>\n",
       "      <td>5599827.0</td>\n",
       "      <td>5673199.0</td>\n",
       "      <td>5736582.0</td>\n",
       "      <td>5787044.0</td>\n",
       "      <td>5827503.0</td>\n",
       "      <td>5868203.0</td>\n",
       "      <td>...</td>\n",
       "      <td>26147002.0</td>\n",
       "      <td>27128337.0</td>\n",
       "      <td>28127721.0</td>\n",
       "      <td>29154746.0</td>\n",
       "      <td>30208628.0</td>\n",
       "      <td>31273533.0</td>\n",
       "      <td>32353588.0</td>\n",
       "      <td>33428486.0</td>\n",
       "      <td>34503774.0</td>\n",
       "      <td>35588987.0</td>\n",
       "    </tr>\n",
       "  </tbody>\n",
       "</table>\n",
       "<p>5 rows × 64 columns</p>\n",
       "</div>"
      ],
      "text/plain": [
       "                  Country Name         1960         1961         1962  \\\n",
       "0                        Aruba      54608.0      55811.0      56682.0   \n",
       "1  Africa Eastern and Southern  130692579.0  134169237.0  137835590.0   \n",
       "2                  Afghanistan    8622466.0    8790140.0    8969047.0   \n",
       "3   Africa Western and Central   97256290.0   99314028.0  101445032.0   \n",
       "4                       Angola    5357195.0    5441333.0    5521400.0   \n",
       "\n",
       "          1963         1964         1965         1966         1967  \\\n",
       "0      57475.0      58178.0      58782.0      59291.0      59522.0   \n",
       "1  141630546.0  145605995.0  149742351.0  153955516.0  158313235.0   \n",
       "2    9157465.0    9355514.0    9565147.0    9783147.0   10010030.0   \n",
       "3  103667517.0  105959979.0  108336203.0  110798486.0  113319950.0   \n",
       "4    5599827.0    5673199.0    5736582.0    5787044.0    5827503.0   \n",
       "\n",
       "          1968  ...         2013         2014         2015         2016  \\\n",
       "0      59471.0  ...     102880.0     103594.0     104257.0     104874.0   \n",
       "1  162875171.0  ...  567892149.0  583651101.0  600008424.0  616377605.0   \n",
       "2   10247780.0  ...   31541209.0   32716210.0   33753499.0   34636207.0   \n",
       "3  115921723.0  ...  387204553.0  397855507.0  408690375.0  419778384.0   \n",
       "4    5868203.0  ...   26147002.0   27128337.0   28127721.0   29154746.0   \n",
       "\n",
       "          2017         2018         2019         2020         2021  \\\n",
       "0     105439.0     105962.0     106442.0     106585.0     106537.0   \n",
       "1  632746570.0  649757148.0  667242986.0  685112979.0  702977106.0   \n",
       "2   35643418.0   36686784.0   37769499.0   38972230.0   40099462.0   \n",
       "3  431138704.0  442646825.0  454306063.0  466189102.0  478185907.0   \n",
       "4   30208628.0   31273533.0   32353588.0   33428486.0   34503774.0   \n",
       "\n",
       "          2022  \n",
       "0     106445.0  \n",
       "1  720859132.0  \n",
       "2   41128771.0  \n",
       "3  490330870.0  \n",
       "4   35588987.0  \n",
       "\n",
       "[5 rows x 64 columns]"
      ]
     },
     "execution_count": 2,
     "metadata": {},
     "output_type": "execute_result"
    }
   ],
   "source": [
    "df=pd.read_csv('population.csv')\n",
    "df.head()# head of the dateset"
   ]
  },
  {
   "cell_type": "markdown",
   "id": "e1fe9a26",
   "metadata": {},
   "source": [
    "1) Data Preparation"
   ]
  },
  {
   "cell_type": "code",
   "execution_count": 3,
   "id": "7a497902",
   "metadata": {
    "scrolled": true
   },
   "outputs": [
    {
     "data": {
      "text/html": [
       "<div>\n",
       "<style scoped>\n",
       "    .dataframe tbody tr th:only-of-type {\n",
       "        vertical-align: middle;\n",
       "    }\n",
       "\n",
       "    .dataframe tbody tr th {\n",
       "        vertical-align: top;\n",
       "    }\n",
       "\n",
       "    .dataframe thead th {\n",
       "        text-align: right;\n",
       "    }\n",
       "</style>\n",
       "<table border=\"1\" class=\"dataframe\">\n",
       "  <thead>\n",
       "    <tr style=\"text-align: right;\">\n",
       "      <th></th>\n",
       "      <th>Country Name</th>\n",
       "      <th>1960</th>\n",
       "      <th>1961</th>\n",
       "      <th>1962</th>\n",
       "      <th>1963</th>\n",
       "      <th>1964</th>\n",
       "      <th>1965</th>\n",
       "      <th>1966</th>\n",
       "      <th>1967</th>\n",
       "      <th>1968</th>\n",
       "      <th>...</th>\n",
       "      <th>2013</th>\n",
       "      <th>2014</th>\n",
       "      <th>2015</th>\n",
       "      <th>2016</th>\n",
       "      <th>2017</th>\n",
       "      <th>2018</th>\n",
       "      <th>2019</th>\n",
       "      <th>2020</th>\n",
       "      <th>2021</th>\n",
       "      <th>2022</th>\n",
       "    </tr>\n",
       "  </thead>\n",
       "  <tbody>\n",
       "    <tr>\n",
       "      <th>261</th>\n",
       "      <td>Kosovo</td>\n",
       "      <td>947000.0</td>\n",
       "      <td>966000.0</td>\n",
       "      <td>994000.0</td>\n",
       "      <td>1022000.0</td>\n",
       "      <td>1050000.0</td>\n",
       "      <td>1078000.0</td>\n",
       "      <td>1106000.0</td>\n",
       "      <td>1135000.0</td>\n",
       "      <td>1163000.0</td>\n",
       "      <td>...</td>\n",
       "      <td>1818117.0</td>\n",
       "      <td>1812771.0</td>\n",
       "      <td>1788196.0</td>\n",
       "      <td>1777557.0</td>\n",
       "      <td>1791003.0</td>\n",
       "      <td>1797085.0</td>\n",
       "      <td>1788878.0</td>\n",
       "      <td>1790133.0</td>\n",
       "      <td>1786038.0</td>\n",
       "      <td>1761985.0</td>\n",
       "    </tr>\n",
       "    <tr>\n",
       "      <th>262</th>\n",
       "      <td>Yemen, Rep.</td>\n",
       "      <td>5542459.0</td>\n",
       "      <td>5646668.0</td>\n",
       "      <td>5753386.0</td>\n",
       "      <td>5860197.0</td>\n",
       "      <td>5973803.0</td>\n",
       "      <td>6097298.0</td>\n",
       "      <td>6228430.0</td>\n",
       "      <td>6368014.0</td>\n",
       "      <td>6515904.0</td>\n",
       "      <td>...</td>\n",
       "      <td>26984002.0</td>\n",
       "      <td>27753304.0</td>\n",
       "      <td>28516545.0</td>\n",
       "      <td>29274002.0</td>\n",
       "      <td>30034389.0</td>\n",
       "      <td>30790513.0</td>\n",
       "      <td>31546691.0</td>\n",
       "      <td>32284046.0</td>\n",
       "      <td>32981641.0</td>\n",
       "      <td>33696614.0</td>\n",
       "    </tr>\n",
       "    <tr>\n",
       "      <th>263</th>\n",
       "      <td>South Africa</td>\n",
       "      <td>16520441.0</td>\n",
       "      <td>16989464.0</td>\n",
       "      <td>17503133.0</td>\n",
       "      <td>18042215.0</td>\n",
       "      <td>18603097.0</td>\n",
       "      <td>19187194.0</td>\n",
       "      <td>19789771.0</td>\n",
       "      <td>20410677.0</td>\n",
       "      <td>21050540.0</td>\n",
       "      <td>...</td>\n",
       "      <td>53873616.0</td>\n",
       "      <td>54729551.0</td>\n",
       "      <td>55876504.0</td>\n",
       "      <td>56422274.0</td>\n",
       "      <td>56641209.0</td>\n",
       "      <td>57339635.0</td>\n",
       "      <td>58087055.0</td>\n",
       "      <td>58801927.0</td>\n",
       "      <td>59392255.0</td>\n",
       "      <td>59893885.0</td>\n",
       "    </tr>\n",
       "    <tr>\n",
       "      <th>264</th>\n",
       "      <td>Zambia</td>\n",
       "      <td>3119430.0</td>\n",
       "      <td>3219451.0</td>\n",
       "      <td>3323427.0</td>\n",
       "      <td>3431381.0</td>\n",
       "      <td>3542764.0</td>\n",
       "      <td>3658024.0</td>\n",
       "      <td>3777680.0</td>\n",
       "      <td>3901288.0</td>\n",
       "      <td>4029173.0</td>\n",
       "      <td>...</td>\n",
       "      <td>15234976.0</td>\n",
       "      <td>15737793.0</td>\n",
       "      <td>16248230.0</td>\n",
       "      <td>16767761.0</td>\n",
       "      <td>17298054.0</td>\n",
       "      <td>17835893.0</td>\n",
       "      <td>18380477.0</td>\n",
       "      <td>18927715.0</td>\n",
       "      <td>19473125.0</td>\n",
       "      <td>20017675.0</td>\n",
       "    </tr>\n",
       "    <tr>\n",
       "      <th>265</th>\n",
       "      <td>Zimbabwe</td>\n",
       "      <td>3806310.0</td>\n",
       "      <td>3925952.0</td>\n",
       "      <td>4049778.0</td>\n",
       "      <td>4177931.0</td>\n",
       "      <td>4310332.0</td>\n",
       "      <td>4447149.0</td>\n",
       "      <td>4588529.0</td>\n",
       "      <td>4734694.0</td>\n",
       "      <td>4886347.0</td>\n",
       "      <td>...</td>\n",
       "      <td>13555422.0</td>\n",
       "      <td>13855753.0</td>\n",
       "      <td>14154937.0</td>\n",
       "      <td>14452704.0</td>\n",
       "      <td>14751101.0</td>\n",
       "      <td>15052184.0</td>\n",
       "      <td>15354608.0</td>\n",
       "      <td>15669666.0</td>\n",
       "      <td>15993524.0</td>\n",
       "      <td>16320537.0</td>\n",
       "    </tr>\n",
       "  </tbody>\n",
       "</table>\n",
       "<p>5 rows × 64 columns</p>\n",
       "</div>"
      ],
      "text/plain": [
       "     Country Name        1960        1961        1962        1963        1964  \\\n",
       "261        Kosovo    947000.0    966000.0    994000.0   1022000.0   1050000.0   \n",
       "262   Yemen, Rep.   5542459.0   5646668.0   5753386.0   5860197.0   5973803.0   \n",
       "263  South Africa  16520441.0  16989464.0  17503133.0  18042215.0  18603097.0   \n",
       "264        Zambia   3119430.0   3219451.0   3323427.0   3431381.0   3542764.0   \n",
       "265      Zimbabwe   3806310.0   3925952.0   4049778.0   4177931.0   4310332.0   \n",
       "\n",
       "           1965        1966        1967        1968  ...        2013  \\\n",
       "261   1078000.0   1106000.0   1135000.0   1163000.0  ...   1818117.0   \n",
       "262   6097298.0   6228430.0   6368014.0   6515904.0  ...  26984002.0   \n",
       "263  19187194.0  19789771.0  20410677.0  21050540.0  ...  53873616.0   \n",
       "264   3658024.0   3777680.0   3901288.0   4029173.0  ...  15234976.0   \n",
       "265   4447149.0   4588529.0   4734694.0   4886347.0  ...  13555422.0   \n",
       "\n",
       "           2014        2015        2016        2017        2018        2019  \\\n",
       "261   1812771.0   1788196.0   1777557.0   1791003.0   1797085.0   1788878.0   \n",
       "262  27753304.0  28516545.0  29274002.0  30034389.0  30790513.0  31546691.0   \n",
       "263  54729551.0  55876504.0  56422274.0  56641209.0  57339635.0  58087055.0   \n",
       "264  15737793.0  16248230.0  16767761.0  17298054.0  17835893.0  18380477.0   \n",
       "265  13855753.0  14154937.0  14452704.0  14751101.0  15052184.0  15354608.0   \n",
       "\n",
       "           2020        2021        2022  \n",
       "261   1790133.0   1786038.0   1761985.0  \n",
       "262  32284046.0  32981641.0  33696614.0  \n",
       "263  58801927.0  59392255.0  59893885.0  \n",
       "264  18927715.0  19473125.0  20017675.0  \n",
       "265  15669666.0  15993524.0  16320537.0  \n",
       "\n",
       "[5 rows x 64 columns]"
      ]
     },
     "execution_count": 3,
     "metadata": {},
     "output_type": "execute_result"
    }
   ],
   "source": [
    "df.tail()# tail of dateset"
   ]
  },
  {
   "cell_type": "code",
   "execution_count": 4,
   "id": "16aabcc3",
   "metadata": {},
   "outputs": [
    {
     "data": {
      "text/plain": [
       "(266, 64)"
      ]
     },
     "execution_count": 4,
     "metadata": {},
     "output_type": "execute_result"
    }
   ],
   "source": [
    "df.shape# shape of dateset"
   ]
  },
  {
   "cell_type": "markdown",
   "id": "84b39adf",
   "metadata": {},
   "source": [
    "First task is to tranform this dataset by making year from 1960 to 2022 form a colums named years and country name form an other columns named country_name\n",
    "use stack method which changes wide format dataframe into long format dataframe "
   ]
  },
  {
   "cell_type": "code",
   "execution_count": 5,
   "id": "65ade937",
   "metadata": {},
   "outputs": [
    {
     "data": {
      "text/html": [
       "<div>\n",
       "<style scoped>\n",
       "    .dataframe tbody tr th:only-of-type {\n",
       "        vertical-align: middle;\n",
       "    }\n",
       "\n",
       "    .dataframe tbody tr th {\n",
       "        vertical-align: top;\n",
       "    }\n",
       "\n",
       "    .dataframe thead th {\n",
       "        text-align: right;\n",
       "    }\n",
       "</style>\n",
       "<table border=\"1\" class=\"dataframe\">\n",
       "  <thead>\n",
       "    <tr style=\"text-align: right;\">\n",
       "      <th></th>\n",
       "      <th>country</th>\n",
       "      <th>year</th>\n",
       "      <th>population</th>\n",
       "    </tr>\n",
       "  </thead>\n",
       "  <tbody>\n",
       "    <tr>\n",
       "      <th>0</th>\n",
       "      <td>Afghanistan</td>\n",
       "      <td>1960-01-01</td>\n",
       "      <td>8622466.0</td>\n",
       "    </tr>\n",
       "    <tr>\n",
       "      <th>1</th>\n",
       "      <td>Afghanistan</td>\n",
       "      <td>1961-01-01</td>\n",
       "      <td>8790140.0</td>\n",
       "    </tr>\n",
       "    <tr>\n",
       "      <th>2</th>\n",
       "      <td>Afghanistan</td>\n",
       "      <td>1962-01-01</td>\n",
       "      <td>8969047.0</td>\n",
       "    </tr>\n",
       "  </tbody>\n",
       "</table>\n",
       "</div>"
      ],
      "text/plain": [
       "       country       year  population\n",
       "0  Afghanistan 1960-01-01   8622466.0\n",
       "1  Afghanistan 1961-01-01   8790140.0\n",
       "2  Afghanistan 1962-01-01   8969047.0"
      ]
     },
     "execution_count": 5,
     "metadata": {},
     "output_type": "execute_result"
    }
   ],
   "source": [
    "#selecting column names from 1 to 65\n",
    "cols = df.columns[1:65]\n",
    "# grouping dataframe by grouping and sum the selected columns stuck the columns and reset index\n",
    "df = df.groupby(['Country Name'])[cols].sum().stack().reset_index()\n",
    "# renaming column names \n",
    "df.columns=['country','year','population']\n",
    "# extract the year characters \n",
    "df['year'] = df['year'].str[0:4]\n",
    "# converting year datatype into year datetime format to facilitates time series analysis\n",
    "df['year'] = pd.to_datetime(df['year'], format='%Y')\n",
    "# printing dataframe\n",
    "df.head(3)"
   ]
  },
  {
   "cell_type": "code",
   "execution_count": 6,
   "id": "b48dd164",
   "metadata": {},
   "outputs": [
    {
     "data": {
      "text/html": [
       "<div>\n",
       "<style scoped>\n",
       "    .dataframe tbody tr th:only-of-type {\n",
       "        vertical-align: middle;\n",
       "    }\n",
       "\n",
       "    .dataframe tbody tr th {\n",
       "        vertical-align: top;\n",
       "    }\n",
       "\n",
       "    .dataframe thead th {\n",
       "        text-align: right;\n",
       "    }\n",
       "</style>\n",
       "<table border=\"1\" class=\"dataframe\">\n",
       "  <thead>\n",
       "    <tr style=\"text-align: right;\">\n",
       "      <th></th>\n",
       "      <th>country</th>\n",
       "      <th>year</th>\n",
       "      <th>population</th>\n",
       "    </tr>\n",
       "  </thead>\n",
       "  <tbody>\n",
       "    <tr>\n",
       "      <th>16755</th>\n",
       "      <td>Zimbabwe</td>\n",
       "      <td>2020-01-01</td>\n",
       "      <td>15669666.0</td>\n",
       "    </tr>\n",
       "    <tr>\n",
       "      <th>16756</th>\n",
       "      <td>Zimbabwe</td>\n",
       "      <td>2021-01-01</td>\n",
       "      <td>15993524.0</td>\n",
       "    </tr>\n",
       "    <tr>\n",
       "      <th>16757</th>\n",
       "      <td>Zimbabwe</td>\n",
       "      <td>2022-01-01</td>\n",
       "      <td>16320537.0</td>\n",
       "    </tr>\n",
       "  </tbody>\n",
       "</table>\n",
       "</div>"
      ],
      "text/plain": [
       "        country       year  population\n",
       "16755  Zimbabwe 2020-01-01  15669666.0\n",
       "16756  Zimbabwe 2021-01-01  15993524.0\n",
       "16757  Zimbabwe 2022-01-01  16320537.0"
      ]
     },
     "execution_count": 6,
     "metadata": {},
     "output_type": "execute_result"
    }
   ],
   "source": [
    "df.tail(3)# tail of the dataset"
   ]
  },
  {
   "cell_type": "code",
   "execution_count": 7,
   "id": "9f60e9bd",
   "metadata": {
    "scrolled": false
   },
   "outputs": [
    {
     "data": {
      "text/plain": [
       "Index(['country', 'year', 'population'], dtype='object')"
      ]
     },
     "execution_count": 7,
     "metadata": {},
     "output_type": "execute_result"
    }
   ],
   "source": [
    "# columns names\n",
    "df.columns"
   ]
  },
  {
   "cell_type": "code",
   "execution_count": 8,
   "id": "12e526d3",
   "metadata": {},
   "outputs": [
    {
     "data": {
      "text/plain": [
       "country               object\n",
       "year          datetime64[ns]\n",
       "population           float64\n",
       "dtype: object"
      ]
     },
     "execution_count": 8,
     "metadata": {},
     "output_type": "execute_result"
    }
   ],
   "source": [
    "df.dtypes"
   ]
  },
  {
   "cell_type": "code",
   "execution_count": 9,
   "id": "cd7ee3c2",
   "metadata": {},
   "outputs": [
    {
     "name": "stdout",
     "output_type": "stream",
     "text": [
      "<class 'pandas.core.frame.DataFrame'>\n",
      "RangeIndex: 16758 entries, 0 to 16757\n",
      "Data columns (total 3 columns):\n",
      " #   Column      Non-Null Count  Dtype         \n",
      "---  ------      --------------  -----         \n",
      " 0   country     16758 non-null  object        \n",
      " 1   year        16758 non-null  datetime64[ns]\n",
      " 2   population  16758 non-null  float64       \n",
      "dtypes: datetime64[ns](1), float64(1), object(1)\n",
      "memory usage: 392.9+ KB\n"
     ]
    }
   ],
   "source": [
    "# more about information\n",
    "df.info()"
   ]
  },
  {
   "cell_type": "code",
   "execution_count": 10,
   "id": "bfdbf885",
   "metadata": {},
   "outputs": [
    {
     "data": {
      "text/plain": [
       "country       0\n",
       "year          0\n",
       "population    0\n",
       "dtype: int64"
      ]
     },
     "execution_count": 10,
     "metadata": {},
     "output_type": "execute_result"
    }
   ],
   "source": [
    "# checking missing values \n",
    "df.isnull().sum()"
   ]
  },
  {
   "cell_type": "markdown",
   "id": "b9537a62",
   "metadata": {},
   "source": [
    "There is no missing values in the dataset"
   ]
  },
  {
   "cell_type": "code",
   "execution_count": 11,
   "id": "a030f7b7",
   "metadata": {},
   "outputs": [
    {
     "data": {
      "text/plain": [
       "0"
      ]
     },
     "execution_count": 11,
     "metadata": {},
     "output_type": "execute_result"
    }
   ],
   "source": [
    "# checking duplicates \n",
    "df.duplicated().sum()"
   ]
  },
  {
   "cell_type": "markdown",
   "id": "46ca0421",
   "metadata": {},
   "source": [
    "There is no duplicates"
   ]
  },
  {
   "cell_type": "markdown",
   "id": "3e4f863f",
   "metadata": {},
   "source": [
    "2) Descriptive analysis "
   ]
  },
  {
   "cell_type": "markdown",
   "id": "b4a878ae",
   "metadata": {},
   "source": [
    "Time Series Analysis"
   ]
  },
  {
   "cell_type": "code",
   "execution_count": 12,
   "id": "22226c16",
   "metadata": {
    "scrolled": true
   },
   "outputs": [
    {
     "data": {
      "text/html": [
       "<div>\n",
       "<style scoped>\n",
       "    .dataframe tbody tr th:only-of-type {\n",
       "        vertical-align: middle;\n",
       "    }\n",
       "\n",
       "    .dataframe tbody tr th {\n",
       "        vertical-align: top;\n",
       "    }\n",
       "\n",
       "    .dataframe thead th {\n",
       "        text-align: right;\n",
       "    }\n",
       "</style>\n",
       "<table border=\"1\" class=\"dataframe\">\n",
       "  <thead>\n",
       "    <tr style=\"text-align: right;\">\n",
       "      <th></th>\n",
       "      <th>country</th>\n",
       "      <th>population</th>\n",
       "    </tr>\n",
       "    <tr>\n",
       "      <th>year</th>\n",
       "      <th></th>\n",
       "      <th></th>\n",
       "    </tr>\n",
       "  </thead>\n",
       "  <tbody>\n",
       "    <tr>\n",
       "      <th>1960-01-01</th>\n",
       "      <td>Afghanistan</td>\n",
       "      <td>8622466.0</td>\n",
       "    </tr>\n",
       "    <tr>\n",
       "      <th>1961-01-01</th>\n",
       "      <td>Afghanistan</td>\n",
       "      <td>8790140.0</td>\n",
       "    </tr>\n",
       "    <tr>\n",
       "      <th>1962-01-01</th>\n",
       "      <td>Afghanistan</td>\n",
       "      <td>8969047.0</td>\n",
       "    </tr>\n",
       "    <tr>\n",
       "      <th>1963-01-01</th>\n",
       "      <td>Afghanistan</td>\n",
       "      <td>9157465.0</td>\n",
       "    </tr>\n",
       "    <tr>\n",
       "      <th>1964-01-01</th>\n",
       "      <td>Afghanistan</td>\n",
       "      <td>9355514.0</td>\n",
       "    </tr>\n",
       "  </tbody>\n",
       "</table>\n",
       "</div>"
      ],
      "text/plain": [
       "                country  population\n",
       "year                               \n",
       "1960-01-01  Afghanistan   8622466.0\n",
       "1961-01-01  Afghanistan   8790140.0\n",
       "1962-01-01  Afghanistan   8969047.0\n",
       "1963-01-01  Afghanistan   9157465.0\n",
       "1964-01-01  Afghanistan   9355514.0"
      ]
     },
     "execution_count": 12,
     "metadata": {},
     "output_type": "execute_result"
    }
   ],
   "source": [
    "# setting year column as index \n",
    "df.set_index('year', inplace=True)\n",
    "# print df with year as index\n",
    "df.head()"
   ]
  },
  {
   "cell_type": "markdown",
   "id": "e851bfdc",
   "metadata": {},
   "source": [
    "Filtering by Time Period "
   ]
  },
  {
   "cell_type": "code",
   "execution_count": null,
   "id": "ecc8e1a9",
   "metadata": {},
   "outputs": [],
   "source": []
  },
  {
   "cell_type": "markdown",
   "id": "93862e9e",
   "metadata": {},
   "source": [
    "Data Visualization"
   ]
  },
  {
   "cell_type": "markdown",
   "id": "009ca249",
   "metadata": {},
   "source": [
    "Histogram"
   ]
  },
  {
   "cell_type": "code",
   "execution_count": 13,
   "id": "cae59c38",
   "metadata": {},
   "outputs": [
    {
     "data": {
      "text/plain": [
       "array([[<Axes: title={'center': 'population'}>]], dtype=object)"
      ]
     },
     "execution_count": 13,
     "metadata": {},
     "output_type": "execute_result"
    },
    {
     "data": {
      "image/png": "[encoded data removed]",
      "text/plain": [
       "<Figure size 640x480 with 1 Axes>"
      ]
     },
     "metadata": {},
     "output_type": "display_data"
    }
   ],
   "source": [
    "df.hist()"
   ]
  },
  {
   "cell_type": "markdown",
   "id": "38cba86c",
   "metadata": {},
   "source": [
    "Scatterplot\n"
   ]
  },
  {
   "cell_type": "code",
   "execution_count": 14,
   "id": "66d300e1",
   "metadata": {},
   "outputs": [
    {
     "data": {
      "image/png": "[encoded data removed]",
      "text/plain": [
       "<Figure size 1000x600 with 1 Axes>"
      ]
     },
     "metadata": {},
     "output_type": "display_data"
    }
   ],
   "source": [
    "# Reset index for seaborn\n",
    "df_reset = df.reset_index()\n",
    "\n",
    "# Plot scatter plot of population over years\n",
    "plt.figure(figsize=(10, 6))\n",
    "sns.scatterplot(data=df_reset, x='year', y='population')\n",
    "plt.title('Population Over Years')\n",
    "plt.xlabel('Year')\n",
    "plt.ylabel('Population')\n",
    "plt.grid(True)\n",
    "plt.show()\n"
   ]
  },
  {
   "cell_type": "markdown",
   "id": "5f72fb0a",
   "metadata": {},
   "source": [
    "Decompose the time series "
   ]
  },
  {
   "cell_type": "markdown",
   "id": "739fe28b",
   "metadata": {},
   "source": [
    "Decompose the time series to analyze its components: trend, seasonality, and residuals."
   ]
  },
  {
   "cell_type": "code",
   "execution_count": 16,
   "id": "302fbe81",
   "metadata": {},
   "outputs": [
    {
     "data": {
      "image/png": "[encoded data removed]",
      "text/plain": [
       "<Figure size 640x480 with 4 Axes>"
      ]
     },
     "metadata": {},
     "output_type": "display_data"
    }
   ],
   "source": [
    "# Decompose the time series\n",
    "decomposition = seasonal_decompose(df['population'], model='additive', period=1)\n",
    "decomposition.plot()\n",
    "plt.show()\n"
   ]
  },
  {
   "cell_type": "markdown",
   "id": "181f7396",
   "metadata": {},
   "source": [
    "Checking Stationarity using Augmented Dickey-Fuller(ADF)"
   ]
  },
  {
   "cell_type": "code",
   "execution_count": 17,
   "id": "6e54be41",
   "metadata": {},
   "outputs": [
    {
     "name": "stdout",
     "output_type": "stream",
     "text": [
      "ADF Statistic: -11.943629131496188\n",
      "p-value: 4.482845306257111e-22\n",
      "Critial Values:\n",
      "   1%, -3.4307403026802827\n",
      "Critial Values:\n",
      "   5%, -2.8617124982283895\n",
      "Critial Values:\n",
      "   10%, -2.566861816412928\n"
     ]
    }
   ],
   "source": [
    "from statsmodels.tsa.stattools import adfuller\n",
    "\n",
    "# Perform ADF test\n",
    "result = adfuller(df['population'])\n",
    "print('ADF Statistic:', result[0])\n",
    "print('p-value:', result[1])\n",
    "for key, value in result[4].items():\n",
    "    print('Critial Values:')\n",
    "    print(f'   {key}, {value}')\n"
   ]
  },
  {
   "cell_type": "markdown",
   "id": "c9906f8d",
   "metadata": {},
   "source": [
    "According to our statistic(-11.943629131496188) and associated p-value(4.482845306257111e-22) we can conclude that there is presence stationary"
   ]
  },
  {
   "cell_type": "markdown",
   "id": "be2c050d",
   "metadata": {},
   "source": [
    "AUTOCORRELATION"
   ]
  },
  {
   "cell_type": "code",
   "execution_count": 18,
   "id": "2cb962b6",
   "metadata": {
    "scrolled": true
   },
   "outputs": [
    {
     "data": {
      "image/png": "[encoded data removed]",
      "text/plain": [
       "<Figure size 1600x600 with 2 Axes>"
      ]
     },
     "metadata": {},
     "output_type": "display_data"
    }
   ],
   "source": [
    "from statsmodels.graphics.tsaplots import plot_acf, plot_pacf\n",
    "\n",
    "# Plot ACF and PACF\n",
    "fig, axes = plt.subplots(1, 2, figsize=(16, 6))\n",
    "plot_acf(df['population'], ax=axes[0])\n",
    "plot_pacf(df['population'], ax=axes[1])\n",
    "plt.show()\n"
   ]
  },
  {
   "cell_type": "markdown",
   "id": "1eb3b5c1",
   "metadata": {},
   "source": [
    "interpretation "
   ]
  },
  {
   "cell_type": "markdown",
   "id": "32c09404",
   "metadata": {},
   "source": [
    "Autocorrelation Function (ACF) Plot:\n",
    "Pattern: The ACF plot shows a gradually decreasing autocorrelation with a slow decay.\n",
    "Significance: The autocorrelations are initially very high and significant (near 1 at lag 1) and then gradually decrease.\n",
    "Indication: This pattern is typical of a non-stationary time series, even though our  is stationary. This might be a sign that there is a strong autocorrelation structure in the data, such as an AR (AutoRegressive) process."
   ]
  },
  {
   "cell_type": "markdown",
   "id": "83f8fe16",
   "metadata": {},
   "source": [
    "Partial Autocorrelation Function (PACF) Plot:\n",
    "\n",
    "Pattern: The PACF plot shows a significant spike at lag 1 and then cuts off abruptly, with the rest of the lags not significant.\n",
    "\n",
    "Significance: The significant spike at lag 1 indicates that the time series has a strong autocorrelation at this lag.\n",
    "\n",
    "Indication: This pattern is typical of an AR(1) process, where the current value is highly correlated with the previous value, but not with values further back."
   ]
  },
  {
   "cell_type": "code",
   "execution_count": null,
   "id": "2a722730",
   "metadata": {},
   "outputs": [],
   "source": []
  }
 ],
 "metadata": {
  "kernelspec": {
   "display_name": "Python 3 (ipykernel)",
   "language": "python",
   "name": "python3"
  },
  "language_info": {
   "codemirror_mode": {
    "name": "ipython",
    "version": 3
   },
   "file_extension": ".py",
   "mimetype": "text/x-python",
   "name": "python",
   "nbconvert_exporter": "python",
   "pygments_lexer": "ipython3",
   "version": "3.11.5"
  }
 },
 "nbformat": 4,
 "nbformat_minor": 5
}
